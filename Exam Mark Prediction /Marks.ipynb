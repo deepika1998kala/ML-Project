{
 "cells": [
  {
   "cell_type": "markdown",
   "metadata": {},
   "source": [
    "Import the Libraries\n"
   ]
  },
  {
   "cell_type": "code",
   "execution_count": 1,
   "metadata": {},
   "outputs": [],
   "source": [
    "import pandas as pd\n",
    "import matplotlib.pyplot as plt\n",
    " "
   ]
  },
  {
   "cell_type": "markdown",
   "metadata": {},
   "source": [
    "Load Dataset\n"
   ]
  },
  {
   "cell_type": "code",
   "execution_count": 3,
   "metadata": {},
   "outputs": [],
   "source": [
    "dataset = pd.read_csv('/Users/deepikakala/Documents/Projects/ML Project/Exam Mark Prediction /Student_data.csv')"
   ]
  },
  {
   "cell_type": "markdown",
   "metadata": {},
   "source": [
    "Summarize the Dataset"
   ]
  },
  {
   "cell_type": "code",
   "execution_count": 4,
   "metadata": {},
   "outputs": [
    {
     "name": "stdout",
     "output_type": "stream",
     "text": [
      "(201, 4)\n",
      "   hours  age  internet  marks\n",
      "0   6.83   15         1  78.50\n",
      "1   6.56   16         0  76.74\n",
      "2    NaN   17         1  78.68\n",
      "3   5.67   18         0  71.82\n",
      "4   8.67   19         1  84.19\n"
     ]
    }
   ],
   "source": [
    "print(dataset.shape)\n",
    "print(dataset.head(5))"
   ]
  },
  {
   "cell_type": "markdown",
   "metadata": {},
   "source": [
    "Finding & Removing NA Values from our Features X"
   ]
  },
  {
   "cell_type": "code",
   "execution_count": 6,
   "metadata": {},
   "outputs": [
    {
     "data": {
      "text/plain": [
       "Index(['hours'], dtype='object')"
      ]
     },
     "execution_count": 6,
     "metadata": {},
     "output_type": "execute_result"
    }
   ],
   "source": [
    "dataset.columns[dataset.isna().any()]"
   ]
  },
  {
   "cell_type": "code",
   "execution_count": 7,
   "metadata": {},
   "outputs": [],
   "source": [
    "dataset.hours = dataset.hours.fillna(dataset.hours.mean())"
   ]
  },
  {
   "cell_type": "markdown",
   "metadata": {},
   "source": [
    "Segregating the Dataset"
   ]
  },
  {
   "cell_type": "code",
   "execution_count": 8,
   "metadata": {},
   "outputs": [
    {
     "name": "stdout",
     "output_type": "stream",
     "text": [
      "[[ 6.83       15.          1.        ]\n",
      " [ 6.56       16.          0.        ]\n",
      " [ 6.98142857 17.          1.        ]\n",
      " [ 5.67       18.          0.        ]\n",
      " [ 8.67       19.          1.        ]\n",
      " [ 7.55       20.          0.        ]\n",
      " [ 6.67       15.          0.        ]\n",
      " [ 8.99       16.          0.        ]\n",
      " [ 5.19       17.          1.        ]\n",
      " [ 6.75       18.          0.        ]\n",
      " [ 6.59       19.          0.        ]\n",
      " [ 8.56       20.          1.        ]\n",
      " [ 7.75       15.          0.        ]\n",
      " [ 7.9        16.          1.        ]\n",
      " [ 8.19       17.          0.        ]\n",
      " [ 6.55       18.          1.        ]\n",
      " [ 6.36       19.          0.        ]\n",
      " [ 8.44       20.          1.        ]\n",
      " [ 8.41       15.          0.        ]\n",
      " [ 7.67       16.          1.        ]\n",
      " [ 7.42       17.          1.        ]\n",
      " [ 8.16       18.          1.        ]\n",
      " [ 5.05       19.          1.        ]\n",
      " [ 5.85       20.          1.        ]\n",
      " [ 5.45       15.          0.        ]\n",
      " [ 7.96       16.          0.        ]\n",
      " [ 6.51       17.          0.        ]\n",
      " [ 6.73       18.          0.        ]\n",
      " [ 5.94       19.          1.        ]\n",
      " [ 7.48       20.          0.        ]\n",
      " [ 8.13       15.          1.        ]\n",
      " [ 6.98142857 16.          1.        ]\n",
      " [ 5.4        17.          1.        ]\n",
      " [ 8.78       18.          0.        ]\n",
      " [ 8.72       19.          1.        ]\n",
      " [ 7.1        20.          0.        ]\n",
      " [ 7.86       15.          1.        ]\n",
      " [ 7.19       16.          0.        ]\n",
      " [ 5.62       17.          1.        ]\n",
      " [ 7.88       18.          0.        ]\n",
      " [ 5.28       19.          1.        ]\n",
      " [ 8.92       20.          1.        ]\n",
      " [ 5.46       15.          0.        ]\n",
      " [ 8.3        16.          1.        ]\n",
      " [ 8.09       17.          0.        ]\n",
      " [ 6.18       18.          1.        ]\n",
      " [ 7.01       19.          1.        ]\n",
      " [ 5.01       20.          0.        ]\n",
      " [ 5.54       15.          1.        ]\n",
      " [ 5.09       16.          1.        ]\n",
      " [ 5.09       17.          0.        ]\n",
      " [ 7.31       18.          1.        ]\n",
      " [ 8.71       19.          0.        ]\n",
      " [ 5.52       20.          1.        ]\n",
      " [ 8.76       15.          0.        ]\n",
      " [ 8.69       16.          1.        ]\n",
      " [ 5.75       17.          1.        ]\n",
      " [ 8.93       18.          1.        ]\n",
      " [ 5.39       19.          1.        ]\n",
      " [ 5.65       20.          0.        ]\n",
      " [ 5.49       15.          1.        ]\n",
      " [ 7.26       16.          1.        ]\n",
      " [ 6.35       17.          0.        ]\n",
      " [ 7.72       18.          1.        ]\n",
      " [ 8.88       19.          0.        ]\n",
      " [ 5.45       20.          1.        ]\n",
      " [ 7.86       15.          1.        ]\n",
      " [ 8.26       16.          0.        ]\n",
      " [ 5.07       17.          1.        ]\n",
      " [ 8.25       18.          0.        ]\n",
      " [ 5.37       19.          1.        ]\n",
      " [ 5.11       20.          1.        ]\n",
      " [ 6.35       15.          0.        ]\n",
      " [ 7.41       16.          1.        ]\n",
      " [ 7.31       17.          0.        ]\n",
      " [ 6.04       18.          1.        ]\n",
      " [ 5.11       19.          1.        ]\n",
      " [ 6.56       20.          0.        ]\n",
      " [ 5.09       15.          1.        ]\n",
      " [ 5.88       16.          0.        ]\n",
      " [ 8.34       17.          1.        ]\n",
      " [ 7.94       18.          0.        ]\n",
      " [ 6.66       19.          1.        ]\n",
      " [ 6.01       20.          1.        ]\n",
      " [ 6.88       15.          0.        ]\n",
      " [ 5.63       16.          1.        ]\n",
      " [ 5.88       17.          0.        ]\n",
      " [ 8.05       18.          1.        ]\n",
      " [ 5.33       19.          0.        ]\n",
      " [ 8.79       20.          0.        ]\n",
      " [ 7.52       15.          1.        ]\n",
      " [ 8.2        16.          0.        ]\n",
      " [ 5.44       17.          1.        ]\n",
      " [ 7.9        18.          0.        ]\n",
      " [ 7.69       19.          1.        ]\n",
      " [ 6.09       20.          0.        ]\n",
      " [ 6.98142857 15.          1.        ]\n",
      " [ 5.2        16.          1.        ]\n",
      " [ 8.88       17.          0.        ]\n",
      " [ 8.07       18.          1.        ]\n",
      " [ 6.24       19.          1.        ]\n",
      " [ 7.95       20.          0.        ]\n",
      " [ 8.26       15.          0.        ]\n",
      " [ 7.31       16.          1.        ]\n",
      " [ 7.23       17.          1.        ]\n",
      " [ 6.46       18.          1.        ]\n",
      " [ 5.34       19.          1.        ]\n",
      " [ 5.72       20.          1.        ]\n",
      " [ 5.84       15.          0.        ]\n",
      " [ 5.02       16.          1.        ]\n",
      " [ 7.98       17.          0.        ]\n",
      " [ 6.37       18.          1.        ]\n",
      " [ 6.92       19.          0.        ]\n",
      " [ 7.95       20.          1.        ]\n",
      " [ 7.12       15.          0.        ]\n",
      " [ 5.79       16.          1.        ]\n",
      " [ 5.4        17.          0.        ]\n",
      " [ 8.83       18.          1.        ]\n",
      " [ 5.69       19.          0.        ]\n",
      " [ 6.6        20.          1.        ]\n",
      " [ 6.52       15.          0.        ]\n",
      " [ 8.31       16.          0.        ]\n",
      " [ 6.98142857 17.          1.        ]\n",
      " [ 7.62       18.          0.        ]\n",
      " [ 8.69       19.          1.        ]\n",
      " [ 8.75       20.          0.        ]\n",
      " [ 6.46       15.          1.        ]\n",
      " [ 7.14       16.          1.        ]\n",
      " [ 6.38       17.          0.        ]\n",
      " [ 6.33       18.          1.        ]\n",
      " [ 5.64       19.          0.        ]\n",
      " [ 5.26       20.          1.        ]\n",
      " [ 6.83       15.          1.        ]\n",
      " [ 5.76       16.          0.        ]\n",
      " [ 6.51       17.          1.        ]\n",
      " [ 8.33       18.          0.        ]\n",
      " [ 8.16       19.          1.        ]\n",
      " [ 5.14       20.          0.        ]\n",
      " [ 8.71       15.          0.        ]\n",
      " [ 8.6        16.          1.        ]\n",
      " [ 8.6        17.          0.        ]\n",
      " [ 7.43       18.          1.        ]\n",
      " [ 7.81       19.          1.        ]\n",
      " [ 6.51       20.          0.        ]\n",
      " [ 8.11       15.          1.        ]\n",
      " [ 8.95       16.          0.        ]\n",
      " [ 7.99       17.          1.        ]\n",
      " [ 5.92       18.          0.        ]\n",
      " [ 8.3        19.          1.        ]\n",
      " [ 8.97       20.          0.        ]\n",
      " [ 5.39       15.          0.        ]\n",
      " [ 6.77       16.          0.        ]\n",
      " [ 8.08       17.          1.        ]\n",
      " [ 5.24       18.          0.        ]\n",
      " [ 6.93       19.          1.        ]\n",
      " [ 5.14       20.          0.        ]\n",
      " [ 8.39       15.          1.        ]\n",
      " [ 6.18       16.          0.        ]\n",
      " [ 7.53       17.          1.        ]\n",
      " [ 7.86       18.          0.        ]\n",
      " [ 7.7        19.          1.        ]\n",
      " [ 7.3        20.          0.        ]\n",
      " [ 7.79       15.          1.        ]\n",
      " [ 6.75       16.          0.        ]\n",
      " [ 7.87       17.          1.        ]\n",
      " [ 5.38       18.          0.        ]\n",
      " [ 7.8        19.          1.        ]\n",
      " [ 5.07       20.          0.        ]\n",
      " [ 7.95       15.          1.        ]\n",
      " [ 8.35       16.          0.        ]\n",
      " [ 5.19       17.          0.        ]\n",
      " [ 7.19       18.          0.        ]\n",
      " [ 7.35       19.          1.        ]\n",
      " [ 5.22       20.          1.        ]\n",
      " [ 5.39       15.          1.        ]\n",
      " [ 5.39       16.          1.        ]\n",
      " [ 8.93       17.          1.        ]\n",
      " [ 5.79       18.          0.        ]\n",
      " [ 8.42       19.          1.        ]\n",
      " [ 7.26       20.          0.        ]\n",
      " [ 6.97       15.          1.        ]\n",
      " [ 5.55       16.          1.        ]\n",
      " [ 8.66       17.          0.        ]\n",
      " [ 8.61       18.          1.        ]\n",
      " [ 5.22       19.          1.        ]\n",
      " [ 8.05       20.          0.        ]\n",
      " [ 8.87       15.          1.        ]\n",
      " [ 5.54       16.          0.        ]\n",
      " [ 6.98142857 17.          0.        ]\n",
      " [ 7.26       18.          1.        ]\n",
      " [ 5.79       19.          0.        ]\n",
      " [ 5.22       20.          0.        ]\n",
      " [ 8.71       15.          1.        ]\n",
      " [ 7.55       16.          1.        ]\n",
      " [ 6.35       17.          1.        ]\n",
      " [ 7.53       18.          0.        ]\n",
      " [ 8.56       19.          1.        ]\n",
      " [ 8.94       20.          1.        ]\n",
      " [ 6.6        15.          1.        ]\n",
      " [ 8.35       16.          1.        ]\n",
      " [ 4.15       15.          0.        ]]\n"
     ]
    }
   ],
   "source": [
    "X=dataset.iloc[:, : -1].values    #Excep[t the last column]\n",
    "print(X)"
   ]
  },
  {
   "cell_type": "code",
   "execution_count": 10,
   "metadata": {},
   "outputs": [
    {
     "data": {
      "text/plain": [
       "0      78.50\n",
       "1      76.74\n",
       "2      78.68\n",
       "3      71.82\n",
       "4      84.19\n",
       "       ...  \n",
       "196    84.68\n",
       "197    86.75\n",
       "198    78.05\n",
       "199    83.50\n",
       "200    81.45\n",
       "Name: marks, Length: 201, dtype: float64"
      ]
     },
     "execution_count": 10,
     "metadata": {},
     "output_type": "execute_result"
    }
   ],
   "source": [
    "Y=dataset.marks\n",
    "Y"
   ]
  },
  {
   "cell_type": "markdown",
   "metadata": {},
   "source": [
    "Training"
   ]
  },
  {
   "cell_type": "code",
   "execution_count": 11,
   "metadata": {},
   "outputs": [
    {
     "data": {
      "text/html": [
       "<style>#sk-container-id-1 {color: black;}#sk-container-id-1 pre{padding: 0;}#sk-container-id-1 div.sk-toggleable {background-color: white;}#sk-container-id-1 label.sk-toggleable__label {cursor: pointer;display: block;width: 100%;margin-bottom: 0;padding: 0.3em;box-sizing: border-box;text-align: center;}#sk-container-id-1 label.sk-toggleable__label-arrow:before {content: \"▸\";float: left;margin-right: 0.25em;color: #696969;}#sk-container-id-1 label.sk-toggleable__label-arrow:hover:before {color: black;}#sk-container-id-1 div.sk-estimator:hover label.sk-toggleable__label-arrow:before {color: black;}#sk-container-id-1 div.sk-toggleable__content {max-height: 0;max-width: 0;overflow: hidden;text-align: left;background-color: #f0f8ff;}#sk-container-id-1 div.sk-toggleable__content pre {margin: 0.2em;color: black;border-radius: 0.25em;background-color: #f0f8ff;}#sk-container-id-1 input.sk-toggleable__control:checked~div.sk-toggleable__content {max-height: 200px;max-width: 100%;overflow: auto;}#sk-container-id-1 input.sk-toggleable__control:checked~label.sk-toggleable__label-arrow:before {content: \"▾\";}#sk-container-id-1 div.sk-estimator input.sk-toggleable__control:checked~label.sk-toggleable__label {background-color: #d4ebff;}#sk-container-id-1 div.sk-label input.sk-toggleable__control:checked~label.sk-toggleable__label {background-color: #d4ebff;}#sk-container-id-1 input.sk-hidden--visually {border: 0;clip: rect(1px 1px 1px 1px);clip: rect(1px, 1px, 1px, 1px);height: 1px;margin: -1px;overflow: hidden;padding: 0;position: absolute;width: 1px;}#sk-container-id-1 div.sk-estimator {font-family: monospace;background-color: #f0f8ff;border: 1px dotted black;border-radius: 0.25em;box-sizing: border-box;margin-bottom: 0.5em;}#sk-container-id-1 div.sk-estimator:hover {background-color: #d4ebff;}#sk-container-id-1 div.sk-parallel-item::after {content: \"\";width: 100%;border-bottom: 1px solid gray;flex-grow: 1;}#sk-container-id-1 div.sk-label:hover label.sk-toggleable__label {background-color: #d4ebff;}#sk-container-id-1 div.sk-serial::before {content: \"\";position: absolute;border-left: 1px solid gray;box-sizing: border-box;top: 0;bottom: 0;left: 50%;z-index: 0;}#sk-container-id-1 div.sk-serial {display: flex;flex-direction: column;align-items: center;background-color: white;padding-right: 0.2em;padding-left: 0.2em;position: relative;}#sk-container-id-1 div.sk-item {position: relative;z-index: 1;}#sk-container-id-1 div.sk-parallel {display: flex;align-items: stretch;justify-content: center;background-color: white;position: relative;}#sk-container-id-1 div.sk-item::before, #sk-container-id-1 div.sk-parallel-item::before {content: \"\";position: absolute;border-left: 1px solid gray;box-sizing: border-box;top: 0;bottom: 0;left: 50%;z-index: -1;}#sk-container-id-1 div.sk-parallel-item {display: flex;flex-direction: column;z-index: 1;position: relative;background-color: white;}#sk-container-id-1 div.sk-parallel-item:first-child::after {align-self: flex-end;width: 50%;}#sk-container-id-1 div.sk-parallel-item:last-child::after {align-self: flex-start;width: 50%;}#sk-container-id-1 div.sk-parallel-item:only-child::after {width: 0;}#sk-container-id-1 div.sk-dashed-wrapped {border: 1px dashed gray;margin: 0 0.4em 0.5em 0.4em;box-sizing: border-box;padding-bottom: 0.4em;background-color: white;}#sk-container-id-1 div.sk-label label {font-family: monospace;font-weight: bold;display: inline-block;line-height: 1.2em;}#sk-container-id-1 div.sk-label-container {text-align: center;}#sk-container-id-1 div.sk-container {/* jupyter's `normalize.less` sets `[hidden] { display: none; }` but bootstrap.min.css set `[hidden] { display: none !important; }` so we also need the `!important` here to be able to override the default hidden behavior on the sphinx rendered scikit-learn.org. See: https://github.com/scikit-learn/scikit-learn/issues/21755 */display: inline-block !important;position: relative;}#sk-container-id-1 div.sk-text-repr-fallback {display: none;}</style><div id=\"sk-container-id-1\" class=\"sk-top-container\"><div class=\"sk-text-repr-fallback\"><pre>LinearRegression()</pre><b>In a Jupyter environment, please rerun this cell to show the HTML representation or trust the notebook. <br />On GitHub, the HTML representation is unable to render, please try loading this page with nbviewer.org.</b></div><div class=\"sk-container\" hidden><div class=\"sk-item\"><div class=\"sk-estimator sk-toggleable\"><input class=\"sk-toggleable__control sk-hidden--visually\" id=\"sk-estimator-id-1\" type=\"checkbox\" checked><label for=\"sk-estimator-id-1\" class=\"sk-toggleable__label sk-toggleable__label-arrow\">LinearRegression</label><div class=\"sk-toggleable__content\"><pre>LinearRegression()</pre></div></div></div></div></div>"
      ],
      "text/plain": [
       "LinearRegression()"
      ]
     },
     "execution_count": 11,
     "metadata": {},
     "output_type": "execute_result"
    }
   ],
   "source": [
    "from sklearn.linear_model import LinearRegression\n",
    "model=LinearRegression()\n",
    "model.fit(X,Y)"
   ]
  },
  {
   "cell_type": "markdown",
   "metadata": {},
   "source": [
    "Predicted Price for Land sq. Feet of custom values"
   ]
  },
  {
   "cell_type": "code",
   "execution_count": 16,
   "metadata": {},
   "outputs": [
    {
     "name": "stdout",
     "output_type": "stream",
     "text": [
      "[84.16388137]\n"
     ]
    }
   ],
   "source": [
    "LandAreainSqft = [[8.67, 19, 3]]\n",
    "PredictedmodelResult = model.predict(LandAreainSqft)\n",
    "print(PredictedmodelResult)"
   ]
  },
  {
   "cell_type": "code",
   "execution_count": 18,
   "metadata": {},
   "outputs": [
    {
     "name": "stdout",
     "output_type": "stream",
     "text": [
      "R-squared: 0.92\n",
      "Mean Squared Error: 2.04\n"
     ]
    }
   ],
   "source": [
    "from sklearn.metrics import accuracy_score\n",
    "from sklearn.metrics import mean_squared_error, r2_score\n",
    "Y_pred = model.predict(X)\n",
    "\n",
    "# Calculate R-squared\n",
    "r2 = r2_score(Y, Y_pred)\n",
    "print(f\"R-squared: {r2:.2f}\")\n",
    "\n",
    "# Calculate Mean Squared Error\n",
    "mse = mean_squared_error(Y, Y_pred)\n",
    "print(f\"Mean Squared Error: {mse:.2f}\")"
   ]
  }
 ],
 "metadata": {
  "kernelspec": {
   "display_name": "Python 3",
   "language": "python",
   "name": "python3"
  },
  "language_info": {
   "codemirror_mode": {
    "name": "ipython",
    "version": 3
   },
   "file_extension": ".py",
   "mimetype": "text/x-python",
   "name": "python",
   "nbconvert_exporter": "python",
   "pygments_lexer": "ipython3",
   "version": "3.9.6"
  }
 },
 "nbformat": 4,
 "nbformat_minor": 2
}
